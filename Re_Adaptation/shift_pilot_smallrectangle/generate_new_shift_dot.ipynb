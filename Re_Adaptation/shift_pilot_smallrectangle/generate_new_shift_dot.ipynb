{
 "cells": [
  {
   "cell_type": "code",
   "execution_count": 1,
   "metadata": {},
   "outputs": [
    {
     "name": "stdout",
     "output_type": "stream",
     "text": [
      "New Grid Center Points (Red Circles):\n",
      "new_circle_1: [533.3333333333334, 300.0]\n",
      "new_circle_2: [960.0, 300.0]\n",
      "new_circle_3: [1386.6666666666667, 300.0]\n",
      "new_circle_4: [533.3333333333334, 540.0]\n",
      "new_circle_5: [960.0, 540.0]\n",
      "new_circle_6: [1386.6666666666667, 540.0]\n",
      "new_circle_7: [533.3333333333334, 780.0]\n",
      "new_circle_8: [960.0, 780.0]\n",
      "new_circle_9: [1386.6666666666667, 780.0]\n"
     ]
    }
   ],
   "source": [
    "# Original screen dimensions\n",
    "screen_width = 1920\n",
    "screen_height = 1080\n",
    "\n",
    "# Original cell dimensions\n",
    "cell_width = screen_width // 3\n",
    "cell_height = screen_height // 3\n",
    "\n",
    "# Original nine black circles\n",
    "nine_circle_dict = {\n",
    "    \"circle_1\": [cell_width/2, cell_height/2],                   # Top-left\n",
    "    \"circle_2\": [cell_width*1.5, cell_height/2],                 # Top-center\n",
    "    \"circle_3\": [cell_width*2.5, cell_height/2],                 # Top-right\n",
    "    \"circle_4\": [cell_width/2, cell_height*1.5],                 # Middle-left\n",
    "    \"circle_6\": [cell_width*2.5, cell_height*1.5],               # Middle-right\n",
    "    \"circle_7\": [cell_width/2, cell_height*2.5],                 # Bottom-left\n",
    "    \"circle_8\": [cell_width*1.5, cell_height*2.5],               # Bottom-center\n",
    "    \"circle_9\": [cell_width*2.5, cell_height*2.5]                # Bottom-right\n",
    "}\n",
    "\n",
    "# Calculate red boundary limits\n",
    "x_min = min(point[0] for point in nine_circle_dict.values())\n",
    "x_max = max(point[0] for point in nine_circle_dict.values())\n",
    "y_min = min(point[1] for point in nine_circle_dict.values())\n",
    "y_max = max(point[1] for point in nine_circle_dict.values())\n",
    "\n",
    "# New cell dimensions for red grid\n",
    "new_cell_width = (x_max - x_min) / 3\n",
    "new_cell_height = (y_max - y_min) / 3\n",
    "\n",
    "# Generate new grid center points (Red circles)\n",
    "new_nine_circle_dict = {}\n",
    "for i in range(3):      # Rows\n",
    "    for j in range(3):  # Columns\n",
    "        new_x = x_min + new_cell_width * (j + 0.5)\n",
    "        new_y = y_min + new_cell_height * (i + 0.5)\n",
    "        new_nine_circle_dict[f\"new_circle_{i*3 + j + 1}\"] = [new_x, new_y]\n",
    "\n",
    "# Display new grid center coordinates\n",
    "print(\"New Grid Center Points (Red Circles):\")\n",
    "for name, point in new_nine_circle_dict.items():\n",
    "    print(f\"{name}: {point}\")\n"
   ]
  },
  {
   "cell_type": "code",
   "execution_count": 2,
   "metadata": {},
   "outputs": [
    {
     "data": {
      "text/plain": [
       "{'new_circle_1': [533.3333333333334, 300.0],\n",
       " 'new_circle_2': [960.0, 300.0],\n",
       " 'new_circle_3': [1386.6666666666667, 300.0],\n",
       " 'new_circle_4': [533.3333333333334, 540.0],\n",
       " 'new_circle_5': [960.0, 540.0],\n",
       " 'new_circle_6': [1386.6666666666667, 540.0],\n",
       " 'new_circle_7': [533.3333333333334, 780.0],\n",
       " 'new_circle_8': [960.0, 780.0],\n",
       " 'new_circle_9': [1386.6666666666667, 780.0]}"
      ]
     },
     "execution_count": 2,
     "metadata": {},
     "output_type": "execute_result"
    }
   ],
   "source": [
    "new_nine_circle_dict"
   ]
  },
  {
   "cell_type": "code",
   "execution_count": null,
   "metadata": {},
   "outputs": [],
   "source": []
  }
 ],
 "metadata": {
  "kernelspec": {
   "display_name": "Python 3",
   "language": "python",
   "name": "python3"
  },
  "language_info": {
   "codemirror_mode": {
    "name": "ipython",
    "version": 3
   },
   "file_extension": ".py",
   "mimetype": "text/x-python",
   "name": "python",
   "nbconvert_exporter": "python",
   "pygments_lexer": "ipython3",
   "version": "3.11.3"
  }
 },
 "nbformat": 4,
 "nbformat_minor": 2
}
